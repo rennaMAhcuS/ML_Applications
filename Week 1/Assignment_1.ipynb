{
 "cells": [
  {
   "cell_type": "markdown",
   "metadata": {
    "id": "Nrq1XfObkug2"
   },
   "source": [
    "# **Python**"
   ]
  },
  {
   "cell_type": "markdown",
   "metadata": {},
   "source": "The following questions are designed to test your basic understanding of python in topics such as recursion, functions, loop and classes. DO NOT use ChatGPT for this as it is important that you understand and clarify the basics here because it won't be able to help you on later stages of this project. So it's best to discuss your doubts on the group or ask us mentors. Have fun solving this assignment :)"
  },
  {
   "cell_type": "markdown",
   "metadata": {
    "id": "p1n0OwlNkug4"
   },
   "source": [
    "**Q1. Create a function to calculate a factorial of a number, using recursion.**"
   ]
  },
  {
   "cell_type": "code",
   "metadata": {
    "ExecuteTime": {
     "end_time": "2024-05-10T03:56:05.031333Z",
     "start_time": "2024-05-10T03:56:05.029054Z"
    }
   },
   "source": [
    "def nFactorial(n: int = 0) -> int:\n",
    "    if n == 0 or n == 1:\n",
    "        return 1\n",
    "    else:\n",
    "        return n * nFactorial(n - 1)"
   ],
   "outputs": [],
   "execution_count": 4
  },
  {
   "cell_type": "markdown",
   "metadata": {},
   "source": [
    "\n",
    "**Q2. Create a class called \"Car\" that inherits from a parent class called \"Vehicle\". Additionally, the \"Car\" class should have a method to calculate the fuel efficiency, a property to track the current speed, and a class variable to keep track of the total number of cars created.**"
   ]
  },
  {
   "cell_type": "code",
   "metadata": {
    "ExecuteTime": {
     "end_time": "2024-05-10T03:56:06.697038Z",
     "start_time": "2024-05-10T03:56:06.694610Z"
    }
   },
   "source": [
    "class Vehicle:\n",
    "    pass\n",
    "\n",
    "\n",
    "class Car(Vehicle):\n",
    "    TotalCars = 0\n",
    "    \n",
    "    def __init__(self):\n",
    "        Car.TotalCars += 1\n",
    "        self.current_speed = 0\n",
    "        \n",
    "    def fuel_efficiency(self):\n",
    "        pass"
   ],
   "outputs": [],
   "execution_count": 5
  },
  {
   "cell_type": "markdown",
   "metadata": {},
   "source": [
    "**Q3. Write a function called \"reverse_string\" that takes a string as input and returns the reverse of the input string.**"
   ]
  },
  {
   "cell_type": "code",
   "metadata": {
    "ExecuteTime": {
     "end_time": "2024-05-10T03:56:11.167335Z",
     "start_time": "2024-05-10T03:56:11.164729Z"
    }
   },
   "source": [
    "def reverse_string(input_string: str) -> str:\n",
    "    reversed_string = \"\"\n",
    "    for letter in input_string:\n",
    "        reversed_string = letter + reversed_string\n",
    "    return reversed_string"
   ],
   "outputs": [],
   "execution_count": 6
  },
  {
   "cell_type": "markdown",
   "metadata": {},
   "source": [
    "**Q4. Write a program to calculate the sum of all the even numbers between 1 and 100 which are not divisible by 5 and 7 using a for-loop**"
   ]
  },
  {
   "cell_type": "code",
   "metadata": {
    "ExecuteTime": {
     "end_time": "2024-05-10T06:35:24.482597Z",
     "start_time": "2024-05-10T06:35:24.480500Z"
    }
   },
   "source": [
    "req_sum = 0\n",
    "for i in range(2, 100, 2):\n",
    "    if (i % 7 != 0) and (i % 5 != 0):\n",
    "        req_sum += i\n",
    "    \n",
    "print(req_sum)"
   ],
   "outputs": [
    {
     "name": "stdout",
     "output_type": "stream",
     "text": [
      "1678\n"
     ]
    }
   ],
   "execution_count": 10
  },
  {
   "cell_type": "markdown",
   "metadata": {},
   "source": [
    "**Q5. Create a dictionary with the following key-value pairs: \"name\" - \"John\", \"age\" - 25, \"city\" - \"New York\". Write a program that prints out the keys and values of the dictionary.**"
   ]
  },
  {
   "cell_type": "code",
   "metadata": {
    "ExecuteTime": {
     "end_time": "2024-05-10T03:55:48.532615Z",
     "start_time": "2024-05-10T03:55:48.529416Z"
    }
   },
   "source": [
    "my_dict = {\"name\": \"John\", \"age\": 25, \"city\": \"New York\"}\n",
    "\n",
    "for key, value in my_dict.items():\n",
    "    print(f\"key: {key}, value: {value}\")\n"
   ],
   "outputs": [
    {
     "name": "stdout",
     "output_type": "stream",
     "text": [
      "key: name, value: John\n",
      "key: age, value: 25\n",
      "key: city, value: New York\n"
     ]
    }
   ],
   "execution_count": 3
  },
  {
   "cell_type": "markdown",
   "metadata": {},
   "source": "**Q6. Write a function that takes a list of numbers as input and returns the second-largest number in the list, without using any built-in sorting functions or the max() function.**"
  },
  {
   "cell_type": "code",
   "metadata": {
    "ExecuteTime": {
     "end_time": "2024-07-01T05:12:32.504728Z",
     "start_time": "2024-07-01T05:12:32.497486Z"
    }
   },
   "source": [
    "# Assuming a minimum of 2 values in the list (of floats). Also, the second-largest number in [23, 23, 17, 6, 9] is 17.\n",
    "def second_largest(numbers) -> float:\n",
    "    largest = second = float('-inf')\n",
    "    for number in numbers:\n",
    "        if number > largest:\n",
    "            second = largest\n",
    "            largest = number\n",
    "        elif second < number < largest:\n",
    "            second = number\n",
    "    if second == float('-inf'):\n",
    "        raise ValueError(\"List must contain at least two distinct numbers\")\n",
    "    return second\n",
    "\n",
    "second_largest([23, 23, 17, 6, 9])"
   ],
   "outputs": [
    {
     "data": {
      "text/plain": [
       "17"
      ]
     },
     "execution_count": 1,
     "metadata": {},
     "output_type": "execute_result"
    }
   ],
   "execution_count": 1
  },
  {
   "cell_type": "markdown",
   "metadata": {
    "id": "MbvsDuzLano5"
   },
   "source": [
    "# **NumPy**\n",
    "In this assignment, you will be familiarized with the usage of the NumPy library and how to use vectorization to speed up computations in comparison to iterative approaches.\n",
    "\n",
    "You are to only write/modify the code in between consecutive `# < START >` and `# < END >` comments. DO NOT modify other parts of the notebook, your assignments will not be graded otherwise.\n",
    "```python\n",
    "\"Don't modify any code here\"\n",
    "\n",
    "# < START >\n",
    "\"YOUR CODE GOES HERE!\"\n",
    "# < END >\n",
    "\n",
    "\"Don't modify any code here\"\n",
    "```\n",
    "\n",
    "<!---Need to include clarification about arrays?-->\n",
    "\n",
    "**Start by running the below cell, to import the NumPy library.**"
   ]
  },
  {
   "cell_type": "code",
   "metadata": {
    "id": "GHqaQIZwaqrb",
    "ExecuteTime": {
     "end_time": "2024-07-01T05:14:25.434965Z",
     "start_time": "2024-07-01T05:14:25.177396Z"
    }
   },
   "source": [
    "import numpy as np"
   ],
   "outputs": [],
   "execution_count": 3
  },
  {
   "cell_type": "markdown",
   "metadata": {
    "id": "7_q9CV0oqiQE"
   },
   "source": [
    "### **Initializing Arrays**\n",
    "NumPy offers multiple methods to create and populate arrays\n",
    "- Create a $2\\times3$ array identical to\n",
    "$\\begin{bmatrix}\n",
    "1 & 2 & 4\\\\\n",
    "7 & 13 & 21\\\\\n",
    "\\end{bmatrix}$, and assign it to a variable `arr`.  "
   ]
  },
  {
   "cell_type": "code",
   "metadata": {
    "id": "DOSodBqMsPFx",
    "ExecuteTime": {
     "end_time": "2024-05-10T04:21:05.860224Z",
     "start_time": "2024-05-10T04:21:05.857444Z"
    }
   },
   "source": [
    "# < START >\n",
    "arr = np.array([[1, 2, 4], [7, 13, 21]])\n",
    "# < END >\n",
    "\n",
    "print(arr)\n",
    "print(\"Shape:\", arr.shape)"
   ],
   "outputs": [
    {
     "name": "stdout",
     "output_type": "stream",
     "text": [
      "[[ 1  2  4]\n",
      " [ 7 13 21]]\n",
      "Shape: (2, 3)\n"
     ]
    }
   ],
   "execution_count": 8
  },
  {
   "cell_type": "markdown",
   "metadata": {
    "id": "ow7eYNN0uqOc"
   },
   "source": [
    "You should be able to see that the `shape` property of an array lets you access its dimensions.  \n",
    "For us, this is a handy way to ensure that the dimensions of an array are what we expect, allowing us to easily debug programs."
   ]
  },
  {
   "cell_type": "markdown",
   "metadata": {
    "id": "3sRFnmJrWY0S"
   },
   "source": [
    "- Initialize a NumPy array `x` of dimensions $2\\times3$ with random values belonging to $[0, 1)$.  \n",
    "Do not use the values of the dimensions directly, instead use the variables provided as arguments."
   ]
  },
  {
   "metadata": {},
   "cell_type": "code",
   "outputs": [],
   "execution_count": null,
   "source": ""
  },
  {
   "cell_type": "code",
   "metadata": {
    "id": "VVrePkvxW2K9",
    "ExecuteTime": {
     "end_time": "2024-06-13T10:49:33.414711Z",
     "start_time": "2024-06-13T10:49:33.411062Z"
    }
   },
   "source": [
    "n_rows = 2\n",
    "n_columns = 3\n",
    "\n",
    "# <START>\n",
    "x = np.random.random((n_rows, n_columns))\n",
    "# <END>\n",
    "\n",
    "print(x)"
   ],
   "outputs": [
    {
     "name": "stdout",
     "output_type": "stream",
     "text": [
      "[[0.80162909 0.99549866 0.05512352]\n",
      " [0.71557576 0.82245418 0.93620393]]\n"
     ]
    }
   ],
   "execution_count": 7
  },
  {
   "cell_type": "markdown",
   "metadata": {
    "id": "j7XlM8Bwchhm"
   },
   "source": [
    "A few more basic methods to initialize arrays exist.\n",
    "Feel free to read up online to complete the code snippets."
   ]
  },
  {
   "cell_type": "code",
   "metadata": {
    "id": "hG59Eh_edKNy",
    "ExecuteTime": {
     "end_time": "2024-06-13T10:50:22.285578Z",
     "start_time": "2024-06-13T10:50:22.282779Z"
    }
   },
   "source": [
    "# < START >\n",
    "# Initialize an array ZERO_ARR of dimensions (4, 5, 2) who's every element is 0\n",
    "ZERO_ARR = np.zeros((4, 5, 2))\n",
    "# < END >\n",
    "\n",
    "print(ZERO_ARR)\n",
    "\n",
    "# < START >\n",
    "# Initialize an array ONE_ARR of dimensions (4, 5, 2) who's every element is 1\n",
    "ONE_ARR = np.ones((4, 5, 2))\n",
    "# < END >\n",
    "\n",
    "print(ONE_ARR)"
   ],
   "outputs": [
    {
     "name": "stdout",
     "output_type": "stream",
     "text": [
      "[[[0. 0.]\n",
      "  [0. 0.]\n",
      "  [0. 0.]\n",
      "  [0. 0.]\n",
      "  [0. 0.]]\n",
      "\n",
      " [[0. 0.]\n",
      "  [0. 0.]\n",
      "  [0. 0.]\n",
      "  [0. 0.]\n",
      "  [0. 0.]]\n",
      "\n",
      " [[0. 0.]\n",
      "  [0. 0.]\n",
      "  [0. 0.]\n",
      "  [0. 0.]\n",
      "  [0. 0.]]\n",
      "\n",
      " [[0. 0.]\n",
      "  [0. 0.]\n",
      "  [0. 0.]\n",
      "  [0. 0.]\n",
      "  [0. 0.]]]\n",
      "[[[1. 1.]\n",
      "  [1. 1.]\n",
      "  [1. 1.]\n",
      "  [1. 1.]\n",
      "  [1. 1.]]\n",
      "\n",
      " [[1. 1.]\n",
      "  [1. 1.]\n",
      "  [1. 1.]\n",
      "  [1. 1.]\n",
      "  [1. 1.]]\n",
      "\n",
      " [[1. 1.]\n",
      "  [1. 1.]\n",
      "  [1. 1.]\n",
      "  [1. 1.]\n",
      "  [1. 1.]]\n",
      "\n",
      " [[1. 1.]\n",
      "  [1. 1.]\n",
      "  [1. 1.]\n",
      "  [1. 1.]\n",
      "  [1. 1.]]]\n"
     ]
    }
   ],
   "execution_count": 8
  },
  {
   "cell_type": "markdown",
   "metadata": {
    "id": "19eX-3suIKcF"
   },
   "source": [
    "You can also transpose arrays (same as with matrices), but a more general and commonly used function is the `array.reshape()` function.\n",
    "\n",
    "$$\n",
    "\\begin{bmatrix}\n",
    "a & d\\\\\n",
    "b & e\\\\\n",
    "c & f\\\\\n",
    "\\end{bmatrix}\n",
    "\\xleftarrow{\\text{.T}}\n",
    "\\begin{bmatrix}\n",
    "a & b & c\\\\\n",
    "d & e & f\\\\\n",
    "\\end{bmatrix}\n",
    "\\xrightarrow{\\text{.reshape(3, 2)}}\n",
    "\\begin{bmatrix}\n",
    "a & b\\\\\n",
    "c & d\\\\\n",
    "e & f\\\\\n",
    "\\end{bmatrix}\n",
    "\\xrightarrow{\\text{.reshape(6,1)}}\n",
    "\\begin{bmatrix}\n",
    "a\\\\\n",
    "b\\\\\n",
    "c\\\\\n",
    "d\\\\\n",
    "e\\\\\n",
    "f\\\\\n",
    "\\end{bmatrix}\n",
    "$$\n",
    "\n",
    "\n",
    "`reshape` is commonly used to flatten data stored in multidimensional arrays (ex: a 2D array representing a B/W image)\n",
    "\n",
    "- Try it out yourself:"
   ]
  },
  {
   "cell_type": "code",
   "metadata": {
    "id": "72poNlj4H4dv",
    "ExecuteTime": {
     "end_time": "2024-06-13T10:56:34.054820Z",
     "start_time": "2024-06-13T10:56:34.052372Z"
    }
   },
   "source": [
    "y = np.array([[1, 2, 3],\n",
    "              [4, 5, 6]])\n",
    "\n",
    "# < START >\n",
    "# Create a new array y_transpose that is the transpose of matrix y\n",
    "y_transpose = y.T\n",
    "# < END >\n",
    "\n",
    "print(y_transpose)\n",
    "\n",
    "# < START >\n",
    "# Create a new array y_flat that contains the same elements as y but has been flattened to a column array\n",
    "y_flat = y.reshape(-1, 1)\n",
    "# < END >\n",
    "\n",
    "print(y_flat)"
   ],
   "outputs": [
    {
     "name": "stdout",
     "output_type": "stream",
     "text": [
      "[[1 4]\n",
      " [2 5]\n",
      " [3 6]]\n",
      "[[1]\n",
      " [2]\n",
      " [3]\n",
      " [4]\n",
      " [5]\n",
      " [6]]\n"
     ]
    }
   ],
   "execution_count": 11
  },
  {
   "cell_type": "markdown",
   "metadata": {
    "id": "OmHhW0gtXn4C"
   },
   "source": [
    "- Create a `y` with dimensions $3\\times1$ (column matrix), with elements $4,7$ and $11$.  \n",
    "$$y = \\begin{bmatrix}\n",
    "4\\\\\n",
    "7\\\\\n",
    "11\n",
    "\\end{bmatrix}$$  "
   ]
  },
  {
   "cell_type": "code",
   "metadata": {
    "id": "_OB_fi7zW57S",
    "ExecuteTime": {
     "end_time": "2024-06-13T10:59:53.497172Z",
     "start_time": "2024-06-13T10:59:53.493700Z"
    }
   },
   "source": [
    "# <START>\n",
    "# Initialize the column matrix here\n",
    "y = np.array([4, 7, 11]).reshape(-1, 1)\n",
    "# <END>\n",
    "\n",
    "assert y.shape == (3, 1)\n",
    "# The above line is an assert statement, which halts the program if the given condition evaluates to False.\n",
    "# Assert statements are frequently used in neural network programs to ensure our matrices are of the right dimensions.\n",
    "\n",
    "print(y)\n",
    "\n",
    "# <START>\n",
    "# Multiply both the arrays here\n",
    "xMul = np.ones((2, 3))\n",
    "z = np.matmul(xMul, y)\n",
    "# <END>\n",
    "\n",
    "assert z.shape == (2, 1)\n",
    "\n",
    "print(z)"
   ],
   "outputs": [
    {
     "name": "stdout",
     "output_type": "stream",
     "text": [
      "[[ 4]\n",
      " [ 7]\n",
      " [11]]\n",
      "[[22.]\n",
      " [22.]]\n"
     ]
    }
   ],
   "execution_count": 12
  },
  {
   "cell_type": "markdown",
   "metadata": {
    "id": "qQBkm2K9eMiu"
   },
   "source": [
    "### **Indexing & Slicing**\n",
    "Just like with normal arrays, you can access an element at the `(i,j)` position using `array[i][j]`.  \n",
    "However, NumPy allows you to do the same using `array[i, j]`, and this form is more efficient and simpler to use.\n",
    "<details>\n",
    "<summary><i>(Optional) Why is it more efficient?</i></summary>\n",
    "The former case is more inefficient as a new temporary array is created after the first index i, that is then indexed by j.\n",
    "</details>\n",
    "\n",
    "```python\n",
    "x = np.array([[1,3,5],[4,7,11],[5,10,20]])\n",
    "\n",
    "x[1][2] #11\n",
    "x[1,2]  #11 <-- Prefer this\n",
    "```"
   ]
  },
  {
   "cell_type": "markdown",
   "metadata": {
    "id": "ptZtfq3dUE25"
   },
   "source": [
    "Slicing is another important feature of NumPy arrays. The syntax is the same as that of slicing in Python lists.\n",
    "  We pass the slice as\n",
    "\n",
    "```python\n",
    "  sliced_array = array[start:end:step]\n",
    "  # The second colon (:) is only needed\n",
    "  # if you want to use a step other than 1\n",
    "```\n",
    "By default, `start` is 0, `end` is the array length (in that dimension), and `step` is 1.\n",
    "Remember that `end` is not included in the slice.\n",
    "\n",
    "  Implement array slicing as instructed in the following examples\n",
    "\n"
   ]
  },
  {
   "cell_type": "code",
   "metadata": {
    "id": "Rb3_CEkYVHRV",
    "ExecuteTime": {
     "end_time": "2024-06-13T11:01:37.791591Z",
     "start_time": "2024-06-13T11:01:37.789386Z"
    }
   },
   "source": [
    "x = np.array([4, 1, 5, 6, 11])\n",
    "\n",
    "# <START>\n",
    "# Create a new array y with the middle 3 elements of x\n",
    "y = x[1:-1]\n",
    "# <END>\n",
    "\n",
    "print(y)\n",
    "\n",
    "z = np.array([1, 2, 3, 4, 5, 6, 7, 8, 9, 10])\n",
    "\n",
    "# <START>\n",
    "# Create a new array w with alternating elements of z\n",
    "w = z[::2]\n",
    "# <END>\n",
    "\n",
    "print(w)"
   ],
   "outputs": [
    {
     "name": "stdout",
     "output_type": "stream",
     "text": [
      "[1 5 6]\n",
      "[1 3 5 7 9]\n"
     ]
    }
   ],
   "execution_count": 13
  },
  {
   "cell_type": "markdown",
   "metadata": {
    "id": "MeHuSp4YHjpT"
   },
   "source": [
    "A combination of indexing and slicing can be used to access rows, columns and sub-arrays of 2D arrays.\n",
    "\n",
    "```python\n",
    "arr = np.array([\n",
    "          [1, 2, 3],\n",
    "          [4, 5, 6],\n",
    "          [7, 8, 9]])\n",
    "\n",
    "print(arr[0])       #[1 2 3]\n",
    "print(arr[:,2])     #[3 6 9]\n",
    "print(arr[0:2,0:2]) #[[1 2]\n",
    "                    # [4 5]]\n",
    "```"
   ]
  },
  {
   "cell_type": "code",
   "metadata": {
    "id": "mvrmhMiUHjMm",
    "ExecuteTime": {
     "end_time": "2024-07-01T05:14:36.293374Z",
     "start_time": "2024-07-01T05:14:36.290566Z"
    }
   },
   "source": [
    "arr_2d = np.array([[4, 5, 2],\n",
    "          [3, 7, 9],\n",
    "          [1, 4, 5],\n",
    "          [6, 6, 1]])\n",
    "\n",
    "# <START>\n",
    "# Create a 2D array sliced_arr_2d that is of the form [[5, 2], [7, 9], [4, 5]]\n",
    "sliced_arr_2d = arr_2d[:3, 1:]\n",
    "# <END>\n",
    "\n",
    "print(sliced_arr_2d)"
   ],
   "outputs": [
    {
     "name": "stdout",
     "output_type": "stream",
     "text": [
      "[[5 2]\n",
      " [7 9]\n",
      " [4 5]]\n"
     ]
    }
   ],
   "execution_count": 4
  },
  {
   "cell_type": "markdown",
   "metadata": {
    "id": "3wusjBpUZ4YM"
   },
   "source": [
    "### **Broadcasting**\n",
    "\n",
    "This feature allows for flexibility in array operations. It lets us implement highly efficient algorithms with minimal use of memory."
   ]
  },
  {
   "cell_type": "code",
   "metadata": {
    "id": "JMYM8LIYbKdV",
    "ExecuteTime": {
     "end_time": "2024-07-01T05:16:08.501642Z",
     "start_time": "2024-07-01T05:16:08.498501Z"
    }
   },
   "source": [
    "arr1 = np.array([1, 2, 3, 4])\n",
    "b = 1\n",
    "\n",
    "# <START>\n",
    "# Implement broadcasting to add b to each element of arr1\n",
    "arr1 += b\n",
    "# <END>\n",
    "\n",
    "print(arr1)\n",
    "\n",
    "arr2 = np.array([[1, 2, 3],\n",
    "                 [4, 5, 6]])\n",
    "arr3 = np.array([[4],\n",
    "                 [5]])\n",
    "\n",
    "# <START>\n",
    "# Multiply each element of the first row of arr2 by 4 and each element of the second row by 5, using only arr2 and arr3\n",
    "arr2 *= arr3\n",
    "# <END>\n",
    "\n",
    "print(arr2)"
   ],
   "outputs": [
    {
     "name": "stdout",
     "output_type": "stream",
     "text": [
      "[2 3 4 5]\n",
      "[[ 4  8 12]\n",
      " [20 25 30]]\n"
     ]
    }
   ],
   "execution_count": 5
  },
  {
   "cell_type": "markdown",
   "metadata": {
    "id": "ZKz_znd7WfhP"
   },
   "source": [
    "### **Vectorization**\n",
    "\n",
    "From what we've covered so far, it might not be clear as to why we need to use vectorization. To understand this, let's compare the execution times of a non-vectorized program and a vectorized one.\n",
    "\n",
    "Your goal is to multiply each element of the 2D arrays by 3. Implement this using both non-vectorized and vectorized approaches."
   ]
  },
  {
   "cell_type": "code",
   "metadata": {
    "id": "RheVdAh4WyA1",
    "ExecuteTime": {
     "end_time": "2024-07-01T05:21:12.449589Z",
     "start_time": "2024-07-01T05:21:12.197505Z"
    }
   },
   "source": [
    "import time\n",
    "\n",
    "arr_nonvectorized = np.random.rand(1000, 1000)\n",
    "arr_vectorized = np.array(arr_nonvectorized) # making a deep copy of the array\n",
    "\n",
    "start_nv = time.time()\n",
    "\n",
    "# Non-vectorized approach\n",
    "# <START>\n",
    "for i in range(1000):\n",
    "    for j in range(1000):\n",
    "         arr_nonvectorized[i][j] *= 3\n",
    "# <END>\n",
    "\n",
    "end_nv = time.time()\n",
    "print(\"Time taken in non-vectorized approach:\", 1000*(end_nv-start_nv), \"ms\")\n",
    "\n",
    "# uncomment and execute the below line to convince yourself that both approaches are doing the same thing\n",
    "# print(arr_nonvectorized)\n",
    "\n",
    "start_v = time.time()\n",
    "\n",
    "# Vectorized approach\n",
    "# <START>\n",
    "arr_vectorized *= 3\n",
    "# <END>\n",
    "\n",
    "end_v = time.time()\n",
    "print(\"Time taken in vectorized approach:\", 1000*(end_v-start_v), \"ms\")\n",
    "\n",
    "# uncomment and execute the below line to convince yourself that both approaches are doing the same thing\n",
    "# print(arr_vectorized)\n",
    "\n",
    "print(np.array(arr_nonvectorized) == arr_vectorized)"
   ],
   "outputs": [
    {
     "name": "stdout",
     "output_type": "stream",
     "text": [
      "Time taken in non-vectorized approach: 240.7369613647461 ms\n",
      "Time taken in vectorized approach: 0.8740425109863281 ms\n",
      "[[ True  True  True ...  True  True  True]\n",
      " [ True  True  True ...  True  True  True]\n",
      " [ True  True  True ...  True  True  True]\n",
      " ...\n",
      " [ True  True  True ...  True  True  True]\n",
      " [ True  True  True ...  True  True  True]\n",
      " [ True  True  True ...  True  True  True]]\n"
     ]
    }
   ],
   "execution_count": 11
  },
  {
   "cell_type": "markdown",
   "metadata": {
    "id": "W2FkvxAsbyzc"
   },
   "source": [
    "Try playing around with the dimensions of the array. You'll find that there isn't much difference in the execution times when the dimensions are small. But in neural networks, we often deal with very large datasets and so vectorization is a very important tool."
   ]
  },
  {
   "cell_type": "markdown",
   "metadata": {
    "id": "DBlRPY0XkuhF"
   },
   "source": [
    "# **Pandas**"
   ]
  },
  {
   "cell_type": "markdown",
   "metadata": {
    "id": "WGrOQ8MGkuhG"
   },
   "source": [
    "This section will help you get familiar with various functions of pandas and how to use them.\n",
    "\n",
    "As you go through this section, you will find a ??? in certain places. To complete this section, you must replace all the ??? with appropriate values, expressions or statements to ensure that the notebook runs properly end-to-end"
   ]
  },
  {
   "cell_type": "markdown",
   "metadata": {
    "id": "0ky8jz6vkuhG"
   },
   "source": [
    "\n",
    "Let's start by importing the pandas library"
   ]
  },
  {
   "cell_type": "code",
   "execution_count": null,
   "metadata": {
    "id": "F_P2upkdkuhG"
   },
   "outputs": [],
   "source": [
    "import pandas as pd"
   ]
  },
  {
   "cell_type": "markdown",
   "metadata": {
    "id": "KIOM97IwkuhG"
   },
   "source": [
    "### **Loading data using url**"
   ]
  },
  {
   "cell_type": "code",
   "execution_count": null,
   "metadata": {
    "id": "saHzZC87kuhH"
   },
   "outputs": [],
   "source": [
    "url = \"https://raw.githubusercontent.com/Mehul-Agrawal410/SpeakSpeare/main/Week%201/countries.csv\"\n",
    "\n",
    "df = ???\n",
    "df"
   ]
  },
  {
   "cell_type": "markdown",
   "metadata": {
    "id": "IZpC6x78kuhH"
   },
   "source": [
    "*(Optional)*: You can rename the columns for your convenience later on. Look up the syntax for renaming columns"
   ]
  },
  {
   "cell_type": "code",
   "execution_count": null,
   "metadata": {
    "id": "_O2mUQC5kuhH"
   },
   "outputs": [],
   "source": []
  },
  {
   "cell_type": "markdown",
   "metadata": {
    "id": "tw9SUpdtkuhI"
   },
   "source": [
    "**Q1: How many countries does the dataframe contain?**\n",
    "\n",
    "Hint: Use the `.shape` method."
   ]
  },
  {
   "cell_type": "code",
   "execution_count": null,
   "metadata": {
    "id": "k6rWIie5kuhI"
   },
   "outputs": [],
   "source": [
    "num_countries = ???\n",
    "print(f'There are {num_countries} countries in the dataset')"
   ]
  },
  {
   "cell_type": "markdown",
   "metadata": {
    "id": "bdYU22SVkuhI"
   },
   "source": [
    "**Q2: Retrieve a list of the Regions from the dataframe?**\n",
    "\n",
    "*Hint: Use the `.unique` method of a series.*"
   ]
  },
  {
   "cell_type": "code",
   "execution_count": null,
   "metadata": {
    "id": "m4EWf5cckuhJ"
   },
   "outputs": [],
   "source": [
    "continents = ???\n",
    "continents"
   ]
  },
  {
   "cell_type": "markdown",
   "metadata": {
    "id": "fgb_wEOtkuhJ"
   },
   "source": [
    "**Q3: What is the total population of all the countries listed in this dataset?**"
   ]
  },
  {
   "cell_type": "code",
   "execution_count": null,
   "metadata": {
    "id": "zPDlXaYHkuhS"
   },
   "outputs": [],
   "source": [
    "total_population = ???\n",
    "print(f'The total population is {total_population}.')"
   ]
  },
  {
   "cell_type": "markdown",
   "metadata": {
    "id": "jFxZbJGCkuhS"
   },
   "source": [
    "**Q4: Create a dataframe containing 10 countries with the highest population.**\n",
    "\n",
    "*Hint: Chain the `sort_values` and `head` methods.*"
   ]
  },
  {
   "cell_type": "code",
   "execution_count": null,
   "metadata": {
    "id": "rcq8vPngkuhT"
   },
   "outputs": [],
   "source": [
    "most_populous_df = ???\n",
    "most_populous_df"
   ]
  },
  {
   "cell_type": "markdown",
   "metadata": {
    "id": "rQO-O0k7kuhT"
   },
   "source": [
    "**Q5: Add a new column in `countries_df` to record the overall GDP per country (product of population & per capita GDP).**"
   ]
  },
  {
   "cell_type": "code",
   "execution_count": null,
   "metadata": {
    "id": "8gmp4riukuhT"
   },
   "outputs": [],
   "source": [
    "df['gdp'] = ???\n",
    "df"
   ]
  },
  {
   "cell_type": "markdown",
   "metadata": {
    "id": "X-acprTKkuhT"
   },
   "source": [
    "**Q6: Create a data frame that counts the number countries in each region?**\n",
    "\n",
    "*Hint: Use `groupby`, select the `location` column and aggregate using `count`.*"
   ]
  },
  {
   "cell_type": "code",
   "execution_count": null,
   "metadata": {
    "id": "tUY1jEnfkuhU"
   },
   "outputs": [],
   "source": [
    "country_counts_df = ???\n",
    "country_counts_df"
   ]
  },
  {
   "cell_type": "markdown",
   "metadata": {
    "id": "I5xnLU7OkuhU"
   },
   "source": [
    "**Q7: Create a data frame showing the total population of each region.**\n",
    "\n",
    "*Hint: Use `groupby`, select the population column and aggregate using `sum`.*"
   ]
  },
  {
   "cell_type": "code",
   "execution_count": null,
   "metadata": {
    "id": "xmPgGJ1skuhU"
   },
   "outputs": [],
   "source": [
    "region_populations_df = ???\n",
    "region_populations_df"
   ]
  },
  {
   "cell_type": "markdown",
   "metadata": {
    "id": "n2tlLfQpkuhU"
   },
   "source": [
    "**Q8: Count the number of null values in each column**\n",
    "\n",
    "*Hint: Use `isna`.*"
   ]
  },
  {
   "cell_type": "code",
   "execution_count": null,
   "metadata": {
    "id": "bx32XCmFkuhU"
   },
   "outputs": [],
   "source": [
    "na_values = ???\n",
    "na_values"
   ]
  },
  {
   "cell_type": "markdown",
   "metadata": {
    "id": "aDwQRewykuhV"
   },
   "source": [
    "**Q9: Fill all the null values with the mean of their respective column**\n",
    "\n",
    "*Hint: Use `mean` and `fillna`.*"
   ]
  },
  {
   "cell_type": "code",
   "execution_count": null,
   "metadata": {
    "id": "ucumufYFkuhV"
   },
   "outputs": [],
   "source": [
    "# <START>\n",
    "\n",
    "# <END>"
   ]
  },
  {
   "cell_type": "markdown",
   "metadata": {
    "id": "0yjHgeEXkuhV"
   },
   "source": [
    "**Q10: Create a dataframe containing 10 countries with the lowest GDP per capita, among the counties with population greater than 100 million.**"
   ]
  },
  {
   "cell_type": "code",
   "execution_count": null,
   "metadata": {
    "id": "_O5-X6UCkuhV"
   },
   "outputs": [],
   "source": [
    "# <START>\n",
    "\n",
    "# <END>"
   ]
  },
  {
   "cell_type": "markdown",
   "metadata": {
    "id": "Ni66jSVfkuhW"
   },
   "source": [
    "# **Matplotlib**\n"
   ]
  },
  {
   "cell_type": "markdown",
   "metadata": {
    "id": "JFt34EhekuhW"
   },
   "source": [
    "Data visualisation is a very important part of data science. It helps us understand the data better and draw conclusions from it and Matplotlib is the most popular library in python for this step.\n",
    "\n",
    "In this section, you'll navigate through a series of challenges that not only familiarize you with Matplotlib but also showcase the diverse array of plots and their practical applications. This will not only enhance your Matplotlib skills but also sharpen your ability to choose the right plot for the right scenario.\n",
    "\n",
    "So let's delve in and master the craft of transforming data into compelling visual insights. We will have start with importing the matplotlib library"
   ]
  },
  {
   "cell_type": "code",
   "execution_count": null,
   "metadata": {
    "id": "5BYjZI50kuhW"
   },
   "outputs": [],
   "source": [
    "import matplotlib.pyplot as plt"
   ]
  },
  {
   "cell_type": "markdown",
   "metadata": {
    "id": "b-icyChckuhW"
   },
   "source": [
    "Now, let's start with a simple x vs y plot.\n",
    "1. Create 2 numpy arrays `x` and `y` of random integers, of size (5,1)\n",
    "2. Create a plot of `x` vs `y` using the `plot()` function\n",
    "3. Add labels to the X and Y axes\n",
    "4. Add a title to the plot"
   ]
  },
  {
   "cell_type": "code",
   "execution_count": null,
   "metadata": {
    "id": "UaLaWY39kuhW"
   },
   "outputs": [],
   "source": [
    "# <START>\n",
    "\n",
    "# <END>\n",
    "plt.show()"
   ]
  },
  {
   "cell_type": "markdown",
   "metadata": {
    "id": "0JtysfjYkuhX"
   },
   "source": [
    "### **Bar Graphs**\n",
    "\n",
    "Bar graph uses bars to compare data among different categories. It is well suited when you want to measure the changes over a period of time. It can be represented horizontally or vertically. Also, the important thing to keep in mind is that longer the bar, greater is the value.\n",
    "\n",
    "We will be plotting a grouped bar chart in this task. More often than not, it’s more interesting to compare values across two dimensions and for that, a grouped bar chart is needed. (Although no need to worry, making a grouped chart is just calling the `.bar()` command twice :)"
   ]
  },
  {
   "cell_type": "code",
   "execution_count": null,
   "metadata": {
    "id": "ojCW7pFLkuhY"
   },
   "outputs": [],
   "source": [
    "# Create the data to be plotted\n",
    "x1 = np.array([0.25,1.25,2.25,3.25,4.25]) #this will decide the x-coordinate of the centre of the bars\n",
    "y1 = np.array([10,55,80,32,40])\n",
    "width = 0.5 # width of the bars\n",
    "x2 = x1 + width # this will shift the x-coordinate of the centre of the bars by width\n",
    "y2 = np.array([42,26,10,29,66])"
   ]
  },
  {
   "cell_type": "markdown",
   "metadata": {
    "id": "2hdTZet-kuhY"
   },
   "source": [
    "Now,\n",
    "1. Create the bar graphs. Assign different label and color to both the plots.\n",
    "2. Create legend, title and axes labels\n",
    "3. Play around with the values to get a sense of how everything is working"
   ]
  },
  {
   "cell_type": "code",
   "execution_count": null,
   "metadata": {
    "id": "lMh91WorkuhY"
   },
   "outputs": [],
   "source": []
  },
  {
   "cell_type": "markdown",
   "metadata": {
    "id": "AZmnrZ_ikuhZ"
   },
   "source": [
    "### **Histograms**\n",
    "\n",
    "Histograms are used to show a distribution whereas a bar chart is used to compare different entities. Histograms are useful when you have arrays or a very long list. I have to plot the age of population with respect to bin. Now, bin refers to the range of values that are divided into series of intervals. Bins are usually created of the same size.\n",
    "\n",
    "For this task, you should:\n",
    "1. Create bins of interval 10 from 0 to 100. Use `np.arange`\n",
    "2. Generate data to be plotted. You can use numpy for this or write the data yourself. Pick atleast 30 values.\n",
    "3. Plot the histogram, label the axes and title the plot\n",
    "4. Customise the color and width of the plot as per your choice"
   ]
  },
  {
   "cell_type": "code",
   "execution_count": null,
   "metadata": {
    "id": "MTwBQQGVkuhZ"
   },
   "outputs": [],
   "source": []
  },
  {
   "cell_type": "markdown",
   "metadata": {
    "id": "YmBL9XNfkuhZ"
   },
   "source": [
    "### **Scatter plot**\n",
    "\n",
    "Usually we need scatter plots in order to compare variables, for example, how much one variable is affected by another variable to build a relation out of it. The data is displayed as a collection of points, each having the value of one variable which determines the position on the horizontal axis and the value of other variable determines the position on the vertical axis\n",
    "\n",
    "1. Create 2 sets of data, `(x1,y1)` and `(x2,y2)` with 8 values each\n",
    "2. Create the scatter plots for both of them and give different labels to each\n",
    "3. Stylise each plot, by giving different colors and marker style. *(Use `marker` argument)*\n",
    "4. Provide legend"
   ]
  },
  {
   "cell_type": "code",
   "execution_count": null,
   "metadata": {
    "id": "ygHKmJJakuha"
   },
   "outputs": [],
   "source": []
  },
  {
   "cell_type": "markdown",
   "metadata": {
    "id": "h1rYhSoMkuha"
   },
   "source": [
    "### **Subplots**\n",
    "\n",
    "*Look up the `subplot()` command and it's use*\n",
    "\n",
    "1. Generate multiple datasets for different plots.\n",
    "2. Create a figure with multiple subplots (e.g., a 2x2 grid).\n",
    "3. Plot different types of charts (line, scatter, bar) in each subplot. You are free to choose any kind of data and plot."
   ]
  },
  {
   "cell_type": "code",
   "execution_count": null,
   "metadata": {
    "id": "L-IUOYBZkuha"
   },
   "outputs": [],
   "source": []
  }
 ],
 "metadata": {
  "colab": {
   "provenance": []
  },
  "kernelspec": {
   "display_name": "Python 3 (ipykernel)",
   "name": "python3",
   "language": "python"
  },
  "language_info": {
   "codemirror_mode": {
    "name": "ipython",
    "version": 3
   },
   "file_extension": ".py",
   "mimetype": "text/x-python",
   "name": "python",
   "nbconvert_exporter": "python",
   "pygments_lexer": "ipython3",
   "version": "3.10.1"
  }
 },
 "nbformat": 4,
 "nbformat_minor": 0
}
